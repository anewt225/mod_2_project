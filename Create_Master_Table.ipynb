{
 "cells": [
  {
   "cell_type": "code",
   "execution_count": 1,
   "metadata": {},
   "outputs": [
    {
     "name": "stderr",
     "output_type": "stream",
     "text": [
      "/Users/jamesfay/opt/anaconda3/envs/learn-env/lib/python3.6/site-packages/statsmodels/tools/_testing.py:19: FutureWarning: pandas.util.testing is deprecated. Use the functions in the public API at pandas.testing instead.\n",
      "  import pandas.util.testing as tm\n"
     ]
    }
   ],
   "source": [
    "#import libraries\n",
    "import pandas as pd\n",
    "import numpy as np\n",
    "import seaborn as sns\n",
    "import matplotlib.pyplot as plt"
   ]
  },
  {
   "cell_type": "code",
   "execution_count": 2,
   "metadata": {},
   "outputs": [],
   "source": [
    "df = pd.read_csv('kc_house_data.csv')"
   ]
  },
  {
   "cell_type": "markdown",
   "metadata": {},
   "source": [
    "### Deal with Null Values"
   ]
  },
  {
   "cell_type": "markdown",
   "metadata": {},
   "source": [
    "**Replace Null Values with Median WF value for the zipcode**"
   ]
  },
  {
   "cell_type": "code",
   "execution_count": 3,
   "metadata": {},
   "outputs": [],
   "source": [
    "df['waterfront'] = df['waterfront'].fillna(df.groupby('zipcode')['waterfront'].transform('median'))"
   ]
  },
  {
   "cell_type": "code",
   "execution_count": 4,
   "metadata": {},
   "outputs": [
    {
     "data": {
      "text/plain": [
       "0.0    21451\n",
       "1.0      146\n",
       "Name: waterfront, dtype: int64"
      ]
     },
     "execution_count": 4,
     "metadata": {},
     "output_type": "execute_result"
    }
   ],
   "source": [
    "df['waterfront'].value_counts()"
   ]
  },
  {
   "cell_type": "markdown",
   "metadata": {},
   "source": [
    "**Merge Year Built & Year Renovated into 1 Column**"
   ]
  },
  {
   "cell_type": "code",
   "execution_count": 5,
   "metadata": {},
   "outputs": [],
   "source": [
    "df['yr_of_last_update'] = df['yr_renovated']\n",
    "df['yr_of_last_update'].fillna(value=df['yr_built'], inplace=True)\n",
    "df['yr_of_last_update'].replace(to_replace=0, value=df['yr_built'], inplace=True)\n",
    "df['yr_of_last_update'] = df['yr_of_last_update'].astype(int)"
   ]
  },
  {
   "cell_type": "markdown",
   "metadata": {},
   "source": [
    "**Replace sqft_basement ?s with median by zipcode**"
   ]
  },
  {
   "cell_type": "code",
   "execution_count": 6,
   "metadata": {},
   "outputs": [],
   "source": [
    "#replace sqft_basement '?' with nas\n",
    "df['sqft_basement'] = df['sqft_basement'].replace('?', np.nan)\n",
    "\n",
    "#Convert to int\n",
    "df['sqft_basement'] = df['sqft_basement'].astype(float)"
   ]
  },
  {
   "cell_type": "code",
   "execution_count": 7,
   "metadata": {},
   "outputs": [],
   "source": [
    "#Replace Nas with median values by zipcode\n",
    "df['sqft_basement'] = df['sqft_basement'].fillna(df.groupby('zipcode')['sqft_basement'].transform('median'))"
   ]
  },
  {
   "cell_type": "code",
   "execution_count": 8,
   "metadata": {},
   "outputs": [],
   "source": [
    "# Replace null view values\n",
    "df['view'] = df['view'].fillna(df.groupby('zipcode')['view'].transform('median'))"
   ]
  },
  {
   "cell_type": "markdown",
   "metadata": {},
   "source": [
    "## Create Season Bins"
   ]
  },
  {
   "cell_type": "code",
   "execution_count": 9,
   "metadata": {},
   "outputs": [],
   "source": [
    "#Using Northern Meterological Seasons\n",
    "#https://www.timeanddate.com/calendar/aboutseasons.html\n",
    "df['date'] = pd.to_datetime(df['date'])\n",
    "df['season_sold'] = df['date'].apply(lambda x: 'Spring' if (3 <= x.month <= 5) else 'Summer' if (6 <= x.month <= 8) else 'Fall' if (9 <= x.month <= 11) else 'Winter')\n"
   ]
  },
  {
   "cell_type": "markdown",
   "metadata": {},
   "source": [
    "## Create Above/Below Ratio"
   ]
  },
  {
   "cell_type": "code",
   "execution_count": 10,
   "metadata": {},
   "outputs": [],
   "source": [
    "df['below_ground_ratio'] =  df['sqft_basement'] / df['sqft_above']"
   ]
  },
  {
   "cell_type": "markdown",
   "metadata": {},
   "source": [
    "## Remove Date, Above, Basement"
   ]
  },
  {
   "cell_type": "code",
   "execution_count": 11,
   "metadata": {},
   "outputs": [],
   "source": [
    "df = df.drop(['date', 'sqft_above', 'sqft_basement', 'yr_built', 'yr_renovated'], axis=1)"
   ]
  },
  {
   "cell_type": "markdown",
   "metadata": {},
   "source": [
    "## Remove Bedrooms Outlier"
   ]
  },
  {
   "cell_type": "code",
   "execution_count": 12,
   "metadata": {},
   "outputs": [
    {
     "data": {
      "text/plain": [
       "(21596, 19)"
      ]
     },
     "execution_count": 12,
     "metadata": {},
     "output_type": "execute_result"
    }
   ],
   "source": [
    "to_drop = df.loc[(df['bedrooms'] == 33)]\n",
    "df.drop(to_drop.index, axis = 0, inplace = True)\n",
    "df.shape"
   ]
  },
  {
   "cell_type": "markdown",
   "metadata": {},
   "source": [
    "## Remove Houses Over 1 Million or Below 100 Thousand"
   ]
  },
  {
   "cell_type": "code",
   "execution_count": 13,
   "metadata": {},
   "outputs": [
    {
     "data": {
      "text/plain": [
       "(21374, 19)"
      ]
     },
     "execution_count": 13,
     "metadata": {},
     "output_type": "execute_result"
    }
   ],
   "source": [
    "to_drop = df.loc[(df['price'] < 100000)]\n",
    "df.drop(to_drop.index, axis = 0, inplace = True)\n",
    "to_drop = df.loc[(df['price'] > 2000000)]\n",
    "df.drop(to_drop.index, axis = 0, inplace = True)\n",
    "df.shape"
   ]
  },
  {
   "cell_type": "markdown",
   "metadata": {},
   "source": [
    "## Change Price Units to Hundreds of Thousands"
   ]
  },
  {
   "cell_type": "code",
   "execution_count": 14,
   "metadata": {},
   "outputs": [],
   "source": [
    "df['price_100k'] = df['price'] / 100000"
   ]
  },
  {
   "cell_type": "code",
   "execution_count": 15,
   "metadata": {},
   "outputs": [],
   "source": [
    "df = df.drop(['price', 'sqft_living15', 'sqft_lot15', 'view'], axis=1)"
   ]
  },
  {
   "cell_type": "code",
   "execution_count": 17,
   "metadata": {},
   "outputs": [
    {
     "name": "stdout",
     "output_type": "stream",
     "text": [
      "<class 'pandas.core.frame.DataFrame'>\n",
      "Int64Index: 21374 entries, 0 to 21596\n",
      "Data columns (total 16 columns):\n",
      " #   Column              Non-Null Count  Dtype  \n",
      "---  ------              --------------  -----  \n",
      " 0   id                  21374 non-null  int64  \n",
      " 1   bedrooms            21374 non-null  int64  \n",
      " 2   bathrooms           21374 non-null  float64\n",
      " 3   sqft_living         21374 non-null  int64  \n",
      " 4   sqft_lot            21374 non-null  int64  \n",
      " 5   floors              21374 non-null  float64\n",
      " 6   waterfront          21374 non-null  float64\n",
      " 7   condition           21374 non-null  int64  \n",
      " 8   grade               21374 non-null  int64  \n",
      " 9   zipcode             21374 non-null  int64  \n",
      " 10  lat                 21374 non-null  float64\n",
      " 11  long                21374 non-null  float64\n",
      " 12  yr_of_last_update   21374 non-null  int64  \n",
      " 13  season_sold         21374 non-null  object \n",
      " 14  below_ground_ratio  21374 non-null  float64\n",
      " 15  price_100k          21374 non-null  float64\n",
      "dtypes: float64(7), int64(8), object(1)\n",
      "memory usage: 2.8+ MB\n"
     ]
    }
   ],
   "source": [
    "df.info()"
   ]
  },
  {
   "cell_type": "code",
   "execution_count": 18,
   "metadata": {},
   "outputs": [],
   "source": [
    "df.to_csv(path_or_buf='Master_Data_Table.csv')"
   ]
  },
  {
   "cell_type": "code",
   "execution_count": null,
   "metadata": {},
   "outputs": [],
   "source": []
  }
 ],
 "metadata": {
  "kernelspec": {
   "display_name": "Python 3",
   "language": "python",
   "name": "python3"
  },
  "language_info": {
   "codemirror_mode": {
    "name": "ipython",
    "version": 3
   },
   "file_extension": ".py",
   "mimetype": "text/x-python",
   "name": "python",
   "nbconvert_exporter": "python",
   "pygments_lexer": "ipython3",
   "version": "3.6.9"
  }
 },
 "nbformat": 4,
 "nbformat_minor": 4
}
